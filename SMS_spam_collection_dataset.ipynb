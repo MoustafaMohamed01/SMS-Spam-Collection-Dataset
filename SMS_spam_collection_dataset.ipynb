{
 "cells": [
  {
   "cell_type": "markdown",
   "id": "f0aec521-c8e5-4e79-91ea-6c9d7a90681f",
   "metadata": {},
   "source": [
    "# SMS Spam Detection Data Cleaning and EDA"
   ]
  },
  {
   "cell_type": "markdown",
   "id": "24758e45-b954-4cfc-b384-1ffd142e05f1",
   "metadata": {},
   "source": [
    "## Importing the Libraries\n",
    "We start by downloading the libraries we will use."
   ]
  },
  {
   "cell_type": "code",
   "execution_count": null,
   "id": "c6677500-bfd8-4b43-b50b-4e1df474d650",
   "metadata": {},
   "outputs": [],
   "source": [
    "import numpy as np\n",
    "import pandas as pd\n",
    "import seaborn as sns\n",
    "import matplotlib.pyplot as plt\n",
    "from sklearn.preprocessing import LabelEncoder\n",
    "import nltk\n",
    "nltk.download('stopwords')\n",
    "nltk.download(\"punkt\")\n",
    "from nltk.corpus import stopwords\n",
    "stopwords.words(\"english\")\n",
    "import string\n",
    "string.punctuation\n",
    "from nltk.stem.porter import PorterStemmer\n",
    "from nltk.tokenize import word_tokenize\n",
    "import timeit\n",
    "from wordcloud import WordCloud\n",
    "from collections import Counter\n",
    "from sklearn.feature_extraction.text import CountVectorizer\n",
    "from sklearn.model_selection import train_test_split\n",
    "from sklearn.naive_bayes import GaussianNB,MultinomialNB,BernoulliNB\n",
    "from sklearn.metrics import accuracy_score,confusion_matrix,precision_score\n",
    "from sklearn.feature_extraction.text import TfidfVectorizer\n",
    "from sklearn.linear_model import LogisticRegression\n",
    "from sklearn.svm import SVC\n",
    "from sklearn.naive_bayes import MultinomialNB\n",
    "from sklearn.tree import DecisionTreeClassifier\n",
    "from sklearn.neighbors import KNeighborsClassifier\n",
    "from sklearn.ensemble import RandomForestClassifier\n",
    "from sklearn.ensemble import AdaBoostClassifier\n",
    "from sklearn.ensemble import BaggingClassifier\n",
    "from sklearn.ensemble import ExtraTreesClassifier\n",
    "from sklearn.ensemble import GradientBoostingClassifier\n",
    "from xgboost import XGBClassifier\n",
    "from sklearn.preprocessing import MinMaxScaler\n",
    "from sklearn.ensemble import VotingClassifier\n",
    "from sklearn.ensemble import StackingClassifier\n",
    "import pickle"
   ]
  },
  {
   "cell_type": "markdown",
   "id": "9dd31356-5e62-4122-9e25-c4b75a9fffbc",
   "metadata": {},
   "source": [
    "## Create some functions that we will use."
   ]
  },
  {
   "cell_type": "markdown",
   "id": "33f79186-cd39-4d02-9c01-c576782d3d72",
   "metadata": {},
   "source": [
    "#### Explanation of the `transform_text` & `transform_text_2` Functions\n",
    "\n",
    "The `transform_text` & `transform_text_2` function performs the following steps:\r\n",
    "\r\n",
    "Converts text to lowercase.\r\n",
    "\r\n",
    "Tokenizes the text into words.\r\n",
    "\r\n",
    "Removes non-alphanumeric characters.\r\n",
    "\r\n",
    "Filters out stopwords and punctuation.\r\n",
    "\r\n",
    "Stems the remaining words.\r\n",
    "\r\n",
    "Returns the cleaned and stemmed text as a single string."
   ]
  },
  {
   "cell_type": "code",
   "execution_count": null,
   "id": "4f8a0887-3db0-4922-b110-fadd56c6a6da",
   "metadata": {},
   "outputs": [],
   "source": [
    "def transform_text(text):\n",
    "    text = text.lower()\n",
    "    text = nltk.word_tokenize(text)\n",
    "    y = []\n",
    "    \n",
    "    for i in text:\n",
    "        if i.isalnum():\n",
    "            y.append(i)\n",
    "            \n",
    "    text = y[:]\n",
    "    y.clear()\n",
    "    \n",
    "    for i in text:\n",
    "        if i not in stopwords.words(\"english\") and i not in string.punctuation:\n",
    "            y.append(i)\n",
    "            \n",
    "    text = y[:]\n",
    "    y.clear()\n",
    "    \n",
    "    for i in text:\n",
    "        y.append(ps.stem(i))\n",
    "        \n",
    "    return \" \" .join(y)"
   ]
  },
  {
   "cell_type": "code",
   "execution_count": null,
   "id": "51ef16da-d205-455d-9ab3-2b83fcfd3021",
   "metadata": {},
   "outputs": [],
   "source": [
    "def transform_text_2(text):\n",
    "    \n",
    "    text = text.lower()\n",
    "    \n",
    "    tokens = word_tokenize(text)\n",
    "    \n",
    "    filtered_tokens = [word for word in tokens if word.isalnum()]\n",
    "    \n",
    "    final_tokens = [word for word in filtered_tokens if word not in stopwords.words(\"english\")]\n",
    "    \n",
    "    stemmed_tokens = [ps.stem(word) for word in final_tokens]\n",
    "    \n",
    "    return \" \".join(stemmed_tokens)"
   ]
  },
  {
   "cell_type": "markdown",
   "id": "2d0bd6cd-cb0d-448c-892b-59bb600d1aab",
   "metadata": {},
   "source": [
    "## Importing the Dataset\n",
    "We begin by loading the dataset and displaying its first few rows:"
   ]
  },
  {
   "cell_type": "code",
   "execution_count": null,
   "id": "975b0143-b444-4043-be5f-cd4c90894108",
   "metadata": {},
   "outputs": [],
   "source": [
    "df = pd.read_csv(\"spam.csv\",encoding=\"latin1\")\n",
    "df.head()"
   ]
  },
  {
   "cell_type": "code",
   "execution_count": null,
   "id": "2e6ebba3-3b21-49be-b1a6-44ebd540e85c",
   "metadata": {},
   "outputs": [],
   "source": [
    "df.shape"
   ]
  },
  {
   "cell_type": "markdown",
   "id": "17e452f2-dd75-401d-92a4-88694fb3182b",
   "metadata": {},
   "source": [
    "#### Output:\n",
    "- The dataset consists of **5,572** rows and **5** columns."
   ]
  },
  {
   "cell_type": "markdown",
   "id": "57f11850-0596-4f63-b003-5a8d80e6dde1",
   "metadata": {},
   "source": [
    "## Data Cleaning:\n",
    "* Checkingg for Missing Values"
   ]
  },
  {
   "cell_type": "code",
   "execution_count": null,
   "id": "2cd514b2-809b-49b7-aa7a-891e657e2880",
   "metadata": {},
   "outputs": [],
   "source": [
    "df.isnull().sum()"
   ]
  },
  {
   "cell_type": "markdown",
   "id": "9c58edf9-02a7-477e-836d-4a21e2ca1430",
   "metadata": {},
   "source": [
    "#### Observations:\n",
    "- The dataset contains five columns: `v1`, `v2`, `Unnamed: 2`, `Unnamed: 3`, and `Unnamed: 4`.\n",
    "- The last three columns have many missing values and are unnecessary, so we drop them."
   ]
  },
  {
   "cell_type": "markdown",
   "id": "f3237a20-ff60-4f43-a230-42a02cc65d1e",
   "metadata": {},
   "source": [
    "#### Dropping Unnecessary Columns"
   ]
  },
  {
   "cell_type": "code",
   "execution_count": null,
   "id": "05509916-0cc6-4faf-9eac-18b60bd9a818",
   "metadata": {},
   "outputs": [],
   "source": [
    "# Drop cols [\"Unnamed: 2\" , \"Unnamed: 3\" , \"Unnamed: 4\"]\n",
    "df.drop(columns=[\"Unnamed: 2\",\"Unnamed: 3\",\"Unnamed: 4\"],inplace=True)"
   ]
  },
  {
   "cell_type": "code",
   "execution_count": null,
   "id": "39f60cad-a203-4714-b4b1-3c75fa2ff1cc",
   "metadata": {},
   "outputs": [],
   "source": [
    "df.head(1)"
   ]
  },
  {
   "cell_type": "markdown",
   "id": "00fa61c5-5720-42e6-acb9-e52496b0d017",
   "metadata": {},
   "source": [
    "#### Output:\n",
    "- The dataset now consists of two columns: `v1` (label) and `v2` (message text)."
   ]
  },
  {
   "cell_type": "markdown",
   "id": "3c7af3e2-e68c-4450-82ce-a2279614eabd",
   "metadata": {},
   "source": [
    "#### Renaming Columns\n",
    "\n",
    "- `v1` is renamed to `target`.\n",
    "- `v2` is renamed to `text`."
   ]
  },
  {
   "cell_type": "code",
   "execution_count": null,
   "id": "e83c2d8c-32ba-431f-81a0-7b47200b336d",
   "metadata": {},
   "outputs": [],
   "source": [
    "df.rename(columns={\"v1\":\"target\",\"v2\":\"text\"},inplace=True)"
   ]
  },
  {
   "cell_type": "markdown",
   "id": "37d97df0-7005-435d-88e8-df22ab87057c",
   "metadata": {},
   "source": [
    "#### Encoding Target Variable\n",
    "We convert the `target` column to numerical values where:\n",
    "- **0** represents `ham` (not spam)\n",
    "- **1** represents `spam`"
   ]
  },
  {
   "cell_type": "code",
   "execution_count": null,
   "id": "021ed394-610d-4b3b-890b-456cf02f75e9",
   "metadata": {},
   "outputs": [],
   "source": [
    "encoder = LabelEncoder()\n",
    "encoder.fit_transform(df[\"target\"])\n",
    "\n",
    "df[\"target\"] = encoder.fit_transform(df[\"target\"])"
   ]
  },
  {
   "cell_type": "code",
   "execution_count": null,
   "id": "629cb596-e8f9-4572-93c9-6012c85d8032",
   "metadata": {},
   "outputs": [],
   "source": [
    "df[\"target\"].dtypes"
   ]
  },
  {
   "cell_type": "code",
   "execution_count": null,
   "id": "d9aebfc3-0f80-4219-bb90-f30438960e75",
   "metadata": {},
   "outputs": [],
   "source": [
    "df.head()"
   ]
  },
  {
   "cell_type": "markdown",
   "id": "5af87ad5-39af-4847-b63e-f62b89ec8818",
   "metadata": {},
   "source": [
    "#### Removing Duplicates"
   ]
  },
  {
   "cell_type": "code",
   "execution_count": null,
   "id": "7aa3431b-0f0e-41c9-8e4d-69f71adcfcf1",
   "metadata": {},
   "outputs": [],
   "source": [
    "print(\"Duplicate values before removal:\", df.duplicated().sum())\n",
    "df = df.drop_duplicates(keep=\"first\")\n",
    "print(\"Duplicate values after removal:\", df.duplicated().sum())"
   ]
  },
  {
   "cell_type": "markdown",
   "id": "2a325b64-a84f-4a3b-98cb-d3f9bcd006bf",
   "metadata": {},
   "source": [
    "#### Observations:\n",
    "- There were **403** duplicate rows in the dataset, which were removed.\n",
    "- The dataset now has **5,169** unique rows."
   ]
  },
  {
   "cell_type": "markdown",
   "id": "c9981dac-5339-4ba7-81fe-0b443bd6d849",
   "metadata": {},
   "source": [
    "## Exploratory Data Analysis (EDA)"
   ]
  },
  {
   "cell_type": "markdown",
   "id": "fe630d35-ad9c-4969-8b2c-3ca3a99f659d",
   "metadata": {},
   "source": [
    "#### Checking Class Distribution"
   ]
  },
  {
   "cell_type": "code",
   "execution_count": null,
   "id": "48a8e148-f24b-46f8-aca5-aa1aea2d9041",
   "metadata": {},
   "outputs": [],
   "source": [
    "df[\"target\"].value_counts()"
   ]
  },
  {
   "cell_type": "markdown",
   "id": "e94bc7f5-d9b5-47e5-8e21-dcdea19ac986",
   "metadata": {},
   "source": [
    "#### Output:\n",
    "- **4,516** messages are `ham` (non-spam).\n",
    "- **653** messages are `spam`."
   ]
  },
  {
   "cell_type": "markdown",
   "id": "400d38b8-37f3-41dc-833d-0e9fe030b2c2",
   "metadata": {},
   "source": [
    "#### Visualizing Class Distribution"
   ]
  },
  {
   "cell_type": "code",
   "execution_count": null,
   "id": "185bd7e7-ba18-4f65-a968-89ca163e3c14",
   "metadata": {},
   "outputs": [],
   "source": [
    "plt.style.use('dark_background')\n",
    "explode = (0.1, 0)\n",
    "plt.pie(\n",
    "    df[\"target\"].value_counts(), \n",
    "    labels=[\"ham\", \"spam\"], \n",
    "    autopct=\"%0.2f\", \n",
    "    colors=sns.color_palette(\"coolwarm\"),\n",
    "    explode=explode, \n",
    "    shadow=True,\n",
    "    startangle=90\n",
    ")\n",
    "plt.title(\"Distribution of Spam vs Ham Messages\", fontsize=16, color='cyan', fontweight='bold')\n",
    "plt.savefig(\"spam_ham_distribution.png\", dpi=300, bbox_inches='tight')\n",
    "plt.show()"
   ]
  },
  {
   "cell_type": "markdown",
   "id": "1505e162-5676-48f8-bcf2-40f3ab992a4a",
   "metadata": {},
   "source": [
    "#### Observations:\n",
    "- The dataset is **imbalanced**, with a majority of messages being `ham` (not spam).\n",
    "- This will be important when training a machine learning model, as class imbalance can impact performance."
   ]
  },
  {
   "cell_type": "markdown",
   "id": "fe512412-1265-43b6-a546-b07eef54884c",
   "metadata": {},
   "source": [
    "#### Creating a \"characters_num\" Column:\n",
    "\n",
    "* counts the number of characters in each SMS message.\n",
    "\n",
    "* saves the character count for each row."
   ]
  },
  {
   "cell_type": "code",
   "execution_count": null,
   "id": "33b4f7a6-b5bc-4567-9e44-46c27113bd3e",
   "metadata": {},
   "outputs": [],
   "source": [
    "# create a number of charahcters column\n",
    "df[\"characters_num\"] = df[\"text\"].apply(len)"
   ]
  },
  {
   "cell_type": "markdown",
   "id": "b35d6b53-47c9-49f7-8f9d-8b84095ba412",
   "metadata": {},
   "source": [
    "#### Creating a \"words_num\" Column  \n",
    "\n",
    "1. **Tokenize each message** → Splits the text into individual words.  \n",
    "2. **Count the number of words** → Calculates the total words in each message.  \n",
    "3. **Store the result in a new column** → Saves the word count for each row.  \n",
    "\n",
    "Now, the dataset has a new column that shows the number of words in each SMS message.\n"
   ]
  },
  {
   "cell_type": "code",
   "execution_count": null,
   "id": "bace93fa-4c5b-4370-8f35-0e300e6836c5",
   "metadata": {},
   "outputs": [],
   "source": [
    "# create a number of words column\n",
    "df[\"text\"].apply(lambda x: nltk.word_tokenize(x))\n",
    "df[\"text\"].apply(lambda x: len(nltk.word_tokenize(x)))\n",
    "df[\"words_num\"] = df[\"text\"].apply(lambda x: len(nltk.word_tokenize(x)))"
   ]
  },
  {
   "cell_type": "markdown",
   "id": "eb1a7cad-c06e-4bc8-94d2-963d0098dd5f",
   "metadata": {},
   "source": [
    "#### Creating a \"sentences_num\" Column  \r\n",
    "\r\n",
    "1. **Tokenize each message into sentences** → Splits the text into individual sentences.  \r\n",
    "2. **Count the number of sentences** → Calculates the total sentences in each message.  \r\n",
    "3. **Store the result in a new column** → Saves the sentence count for each row.  \r\n",
    "\r\n",
    "Now, the dataset has a new column that shows the number of sentences in each SMS message.\r\n"
   ]
  },
  {
   "cell_type": "code",
   "execution_count": null,
   "id": "9d3e1afd-b9a8-4e87-89c0-35c4f0184149",
   "metadata": {},
   "outputs": [],
   "source": [
    "# create a number of sentences column\n",
    "df[\"text\"].apply(lambda x: nltk.sent_tokenize(x))\n",
    "df[\"text\"].apply(lambda x: len(nltk.sent_tokenize(x)))\n",
    "df[\"sentences_num\"] = df[\"text\"].apply(lambda x: len(nltk.sent_tokenize(x)))"
   ]
  },
  {
   "cell_type": "markdown",
   "id": "5055bc7e-a092-4c92-8d6d-d270fccc1799",
   "metadata": {},
   "source": [
    "#### Descriptive Statistics for Character, Word, and Sentence Counts "
   ]
  },
  {
   "cell_type": "code",
   "execution_count": null,
   "id": "0f538af9-c9f4-42f0-b562-8135899091f9",
   "metadata": {},
   "outputs": [],
   "source": [
    "# descriptive statistics of columns[\"characters_num\",\"words_num\",\"sentences_num\"]\n",
    "df[[\"characters_num\",\"words_num\",\"sentences_num\"]].describe()"
   ]
  },
  {
   "cell_type": "markdown",
   "id": "eaf522c1-d2c0-4835-9aeb-965ccaae7206",
   "metadata": {},
   "source": [
    "#### Descriptive Statistics for Ham Messages  "
   ]
  },
  {
   "cell_type": "code",
   "execution_count": null,
   "id": "a23b5fbe-3b49-4c55-8564-d023373e7035",
   "metadata": {},
   "outputs": [],
   "source": [
    "# ham descriptive statistics of columns[\"characters_num\",\"words_num\",\"sentences_num\"]\n",
    "df[df[\"target\"]==0][[\"characters_num\",\"words_num\",\"sentences_num\"]].describe()"
   ]
  },
  {
   "cell_type": "markdown",
   "id": "bf68ae0c-dc9a-467f-b46a-9b3941d7f495",
   "metadata": {},
   "source": [
    "#### Descriptive Statistics for Spam Messages  "
   ]
  },
  {
   "cell_type": "code",
   "execution_count": null,
   "id": "8d19d988-416c-4ba7-8ab8-3bb1f3261231",
   "metadata": {},
   "outputs": [],
   "source": [
    "# spam descriptive statistics of columns[\"characters_num\",\"words_num\",\"sentences_num\"]\n",
    "df[df[\"target\"]==1][[\"characters_num\",\"words_num\",\"sentences_num\"]].describe()"
   ]
  },
  {
   "cell_type": "markdown",
   "id": "50a70e63-62f2-4980-a564-45e6e65de337",
   "metadata": {},
   "source": [
    "#### Histogram of SMS Messages by Number of Characters "
   ]
  },
  {
   "cell_type": "code",
   "execution_count": null,
   "id": "6274a32d-d74c-48f4-8aea-9e0578fd4f27",
   "metadata": {},
   "outputs": [],
   "source": [
    "plt.style.use(\"dark_background\")\n",
    "\n",
    "fig = plt.figure(figsize=(10, 5), dpi=150, facecolor='black')\n",
    "ax = plt.gca()\n",
    "ax.set_facecolor('black')  \n",
    "\n",
    "sns.histplot(df[df[\"target\"] == 0][\"characters_num\"], color=\"#00FFFF\", edgecolor=\"#00FFFF\", linewidth=1.2)  # Neon Cyan\n",
    "sns.histplot(df[df[\"target\"] == 1][\"characters_num\"], color=\"#FF00FF\", edgecolor=\"#FF00FF\", linewidth=1.2, alpha=0.5)  # Neon Magenta\n",
    "\n",
    "plt.legend(title=\"Target\", labels=[\"Ham\", \"Spam\"], facecolor=\"black\", edgecolor=\"#00FFFF\", fontsize=10, title_fontsize=12)\n",
    "plt.grid(True, linestyle=\"--\", linewidth=0.5, color=\"#444444\")\n",
    "\n",
    "ax.spines['bottom'].set_color('#00FFFF')\n",
    "ax.spines['left'].set_color('#FF00FF')\n",
    "plt.title(\"Distribution of SMS Messages by Number of Characters\", color=\"white\", fontsize=14)\n",
    "ax.xaxis.label.set_color('#00FFFF')\n",
    "ax.yaxis.label.set_color('#FF00FF')\n",
    "ax.tick_params(axis='x', colors='#00FFFF')\n",
    "ax.tick_params(axis='y', colors='#FF00FF')\n",
    "\n",
    "plt.savefig(\"sms_length_distribution.png\", dpi=300, bbox_inches='tight')\n",
    "plt.show()"
   ]
  },
  {
   "cell_type": "markdown",
   "id": "b0b2b920-f6ca-4c87-8141-0881d8c809d5",
   "metadata": {},
   "source": [
    "#### Histogram of SMS Messages by Number of Words"
   ]
  },
  {
   "cell_type": "code",
   "execution_count": null,
   "id": "db4dda2b-67c9-4325-9623-8844060e06ba",
   "metadata": {},
   "outputs": [],
   "source": [
    "plt.style.use(\"dark_background\")\n",
    "\n",
    "fig, ax = plt.subplots(figsize=(10, 5), dpi=150, facecolor='black')\n",
    "\n",
    "sns.kdeplot(df[df[\"target\"] == 0][\"words_num\"], \n",
    "            color=\"#00FFFF\", linewidth=2, fill=True, alpha=0.3, label=\"Ham\")\n",
    "\n",
    "sns.kdeplot(df[df[\"target\"] == 1][\"words_num\"], \n",
    "            color=\"#FF00FF\", linewidth=2, fill=True, alpha=0.3, label=\"Spam\")\n",
    "\n",
    "plt.legend(title=\"Target\", facecolor=\"black\", edgecolor=\"white\", fontsize=10, title_fontsize=12)\n",
    "plt.grid(True, linestyle=\"--\", linewidth=0.5, color=\"#444444\")\n",
    "ax.spines['bottom'].set_color('#00FFFF')\n",
    "ax.spines['left'].set_color('#FF00FF')\n",
    "ax.xaxis.label.set_color('#00FFFF')\n",
    "ax.yaxis.label.set_color('#FF00FF')\n",
    "ax.tick_params(axis='x', colors='#00FFFF')\n",
    "ax.tick_params(axis='y', colors='#FF00FF')\n",
    "plt.title(\"Distribution of SMS Messages by Word Count\", color=\"white\", fontsize=14)\n",
    "plt.xlabel(\"Number of Words\", fontsize=12)\n",
    "plt.ylabel(\"Density\", fontsize=12)\n",
    "plt.savefig(\"sms_word_count_distribution.png\", dpi=300, bbox_inches='tight')\n",
    "plt.show()"
   ]
  },
  {
   "cell_type": "markdown",
   "id": "accbe8d7-1edd-425a-a192-b8a224c45ac8",
   "metadata": {},
   "source": [
    "#### Histogram of SMS Messages by Number of Sentences "
   ]
  },
  {
   "cell_type": "code",
   "execution_count": null,
   "id": "92ff6156-b2ea-4308-ab2d-95b1886baf57",
   "metadata": {},
   "outputs": [],
   "source": [
    "plt.style.use(\"dark_background\")\n",
    "\n",
    "fig, ax = plt.subplots(figsize=(10, 5), dpi=150, facecolor='black')\n",
    "\n",
    "sns.histplot(df[df[\"target\"] == 0][\"sentences_num\"], color=\"#00FFFF\", edgecolor=\"#00FFFF\", bins=30, alpha=0.5, linewidth=1.5, kde=True, label=\"Ham\")\n",
    "sns.histplot(df[df[\"target\"] == 1][\"sentences_num\"], color=\"#FF00FF\", edgecolor=\"#FF00FF\", bins=30, alpha=0.5, linewidth=1.5, kde=True, label=\"Spam\")\n",
    "\n",
    "plt.legend(title=\"Target\", facecolor=\"black\", edgecolor=\"white\", fontsize=10, title_fontsize=12)\n",
    "plt.grid(True, linestyle=\"--\", linewidth=0.5, color=\"#444444\")\n",
    "ax.spines['bottom'].set_color('#00FFFF')\n",
    "ax.spines['left'].set_color('#FF00FF')\n",
    "ax.xaxis.label.set_color('#00FFFF')\n",
    "ax.yaxis.label.set_color('#FF00FF')\n",
    "ax.tick_params(axis='x', colors='#00FFFF')\n",
    "ax.tick_params(axis='y', colors='#FF00FF')\n",
    "plt.title(\"Distribution of SMS Messages by Number of Sentences\", color=\"white\", fontsize=14)\n",
    "plt.xlabel(\"Number of Sentences\", fontsize=12)\n",
    "plt.ylabel(\"Frequency\", fontsize=12)\n",
    "plt.savefig(\"sms_sentence_count_distribution.png\", dpi=300, bbox_inches='tight')\n",
    "plt.show()"
   ]
  },
  {
   "cell_type": "markdown",
   "id": "e931f739-17a1-48c6-8b8c-8c8718003415",
   "metadata": {},
   "source": [
    "#### Pairplot of Features Colored by `Target`\n",
    "- **Creates a pairplot** to visualize relationships between all pairs of features in the DataFrame."
   ]
  },
  {
   "cell_type": "code",
   "execution_count": null,
   "id": "3be3b200-60a0-49d1-ac0b-02aa9f3ceea5",
   "metadata": {},
   "outputs": [],
   "source": [
    "sns.pairplot(df,hue=\"target\",palette=\"Set2\")\n",
    "plt.savefig(\"feature_pairplot_by_target.png\", dpi=300, bbox_inches='tight')"
   ]
  },
  {
   "cell_type": "markdown",
   "id": "49854023-fd3b-4992-a178-a0363f5d95bd",
   "metadata": {},
   "source": [
    "#### Correlation of Features in the DataFrame"
   ]
  },
  {
   "cell_type": "code",
   "execution_count": null,
   "id": "78f2a326-bdd8-443a-ab7e-ffd760157162",
   "metadata": {},
   "outputs": [],
   "source": [
    "# correlation\n",
    "df.corr(numeric_only=True)"
   ]
  },
  {
   "cell_type": "markdown",
   "id": "f0a5020b-b14f-44ad-8504-f6a33a7d8f74",
   "metadata": {},
   "source": [
    "#### Heatmap Showing Correlation Between Features"
   ]
  },
  {
   "cell_type": "code",
   "execution_count": null,
   "id": "80dcb93d-7692-4c2f-b959-ab578c923f38",
   "metadata": {},
   "outputs": [],
   "source": [
    "plt.style.use('dark_background')\n",
    "plt.figure(figsize=(12, 8), dpi=150)\n",
    "sns.heatmap(\n",
    "    df.corr(numeric_only=True),\n",
    "    cmap='Spectral',annot=True,fmt='.2f',\n",
    "    annot_kws={\"size\": 12, \"weight\": \"bold\", \"color\": \"white\"},\n",
    "    linewidths=1.5,linecolor='cyan',\n",
    "    cbar_kws={\"shrink\": 0.8, \"orientation\": \"vertical\", \"ticks\": [0, 0.5, 1]},\n",
    "    square=True\n",
    ")\n",
    "plt.title(\"Correlation Heatmap\", fontsize=20, color='cyan', fontweight='bold', loc='center')\n",
    "plt.xticks(fontsize=14, color='lightgreen', fontweight='light')\n",
    "plt.yticks(fontsize=14, color='lightgreen', fontweight='light')\n",
    "plt.tight_layout()\n",
    "plt.savefig(\"correlation_heatmap.png\", dpi=300, bbox_inches='tight')\n",
    "plt.show()"
   ]
  },
  {
   "cell_type": "markdown",
   "id": "97b27c7f-c1d5-474f-bb47-b28f94534616",
   "metadata": {},
   "source": [
    "---\n",
    "## Data Preprocessing\n",
    "---"
   ]
  },
  {
   "cell_type": "code",
   "execution_count": null,
   "id": "05129db6-678d-4858-bac1-99ec0a3cd8ab",
   "metadata": {},
   "outputs": [],
   "source": [
    "ps = PorterStemmer()"
   ]
  },
  {
   "cell_type": "markdown",
   "id": "aeafaf03-bed4-4085-9af4-43a0267a78ca",
   "metadata": {},
   "source": [
    "#### Measuring the Runtime of Two Text Transformation Functions (`transform_text`,`transform_text_2`)"
   ]
  },
  {
   "cell_type": "code",
   "execution_count": null,
   "id": "02a0e185-a977-42df-89e9-da52d8ebe93f",
   "metadata": {},
   "outputs": [],
   "source": [
    "import timeit\n",
    "\n",
    "time1 = timeit.timeit(lambda: df[\"text\"].apply(transform_text),number=1)\n",
    "\n",
    "time2 = timeit.timeit(lambda: df[\"text\"].apply(transform_text_2),number=1)\n",
    "\n",
    "print(f\"Runtime for transform_text: {time1:.5f} seconds\")\n",
    "print(f\"Runtime for transform_text_2: {time2:.5f} seconds\")"
   ]
  },
  {
   "cell_type": "code",
   "execution_count": null,
   "id": "3bef30f4-4b1e-4237-a9d6-fca00d0fc98c",
   "metadata": {},
   "outputs": [],
   "source": [
    "df[\"transformed_text\"] = df[\"text\"].apply(transform_text_2)"
   ]
  },
  {
   "cell_type": "markdown",
   "id": "0dc73fed-5bd5-4883-ab07-5c77160e26d8",
   "metadata": {},
   "source": [
    "#### Creating a WordCloud Object"
   ]
  },
  {
   "cell_type": "code",
   "execution_count": null,
   "id": "b9f28ffe-66fb-4c6e-ab85-eb42855f52b1",
   "metadata": {},
   "outputs": [],
   "source": [
    "wc = WordCloud(width=500,height=500,min_font_size=10,background_color=\"white\")"
   ]
  },
  {
   "cell_type": "markdown",
   "id": "daf9c826-def2-4cb8-b97c-9e7ee6fd25fd",
   "metadata": {},
   "source": [
    "#### Generating and Displaying a WordCloud for Spam Text"
   ]
  },
  {
   "cell_type": "code",
   "execution_count": null,
   "id": "63e83e3e-b454-4e4a-b662-8ba3cd0fa8f6",
   "metadata": {},
   "outputs": [],
   "source": [
    "spam_wc = WordCloud(\n",
    "    background_color=\"black\",\n",
    "    colormap=\"coolwarm\",\n",
    "    contour_color=\"cyan\",\n",
    "    contour_width=1,\n",
    "    width=800,\n",
    "    height=400,\n",
    "    max_words=200,\n",
    "    random_state=42\n",
    ").generate(df[df[\"target\"]==1][\"transformed_text\"].str.cat(sep=\" \"))\n",
    "plt.figure(figsize=(10, 6))\n",
    "plt.imshow(spam_wc, interpolation=\"bilinear\")\n",
    "plt.axis(\"off\")\n",
    "plt.title(\"Word Cloud - Spam Messages\", fontsize=16, color='cyan', fontweight='bold')\n",
    "plt.savefig(\"spam_word_cloud.png\", dpi=300, bbox_inches='tight')\n",
    "plt.show()"
   ]
  },
  {
   "cell_type": "markdown",
   "id": "79138337-d722-46a0-93e0-969bfadb21c2",
   "metadata": {},
   "source": [
    "#### Generating and Displaying a WordCloud for Ham Text"
   ]
  },
  {
   "cell_type": "code",
   "execution_count": null,
   "id": "0432a0fe-0b21-4af4-8337-8250b2ad4660",
   "metadata": {},
   "outputs": [],
   "source": [
    "ham_wc = WordCloud(\n",
    "    background_color=\"darkslategray\",\n",
    "    colormap=\"plasma\",\n",
    "    contour_color=\"white\",\n",
    "    contour_width=2,\n",
    "    width=900,\n",
    "    height=450,\n",
    "    max_words=150,\n",
    "    random_state=42,\n",
    "    min_font_size=10\n",
    ").generate(df[df[\"target\"]==0][\"transformed_text\"].str.cat(sep=\" \"))\n",
    "\n",
    "plt.figure(figsize=(12, 7))\n",
    "plt.imshow(ham_wc, interpolation=\"bilinear\")\n",
    "plt.axis(\"off\")\n",
    "plt.title(\"Word Cloud - Ham Messages\", fontsize=18, color='lightblue', fontweight='bold')\n",
    "plt.savefig(\"ham_word_cloud.png\", dpi=300, bbox_inches='tight')\n",
    "plt.show()"
   ]
  },
  {
   "cell_type": "markdown",
   "id": "5a659065-9242-4d26-8028-57d295368da1",
   "metadata": {},
   "source": [
    "#### Creating a Corpus of Words from Spam Texts"
   ]
  },
  {
   "cell_type": "code",
   "execution_count": null,
   "id": "743fd3a5-37eb-4b11-a3a4-5d4287f7dc2a",
   "metadata": {},
   "outputs": [],
   "source": [
    "spam_corpus = []\n",
    "for msg in df[df[\"target\"]==1][\"transformed_text\"].tolist():\n",
    "    for words in msg.split():\n",
    "        spam_corpus.append(words)"
   ]
  },
  {
   "cell_type": "code",
   "execution_count": null,
   "id": "def525c7-d277-48bc-856f-8eeec4c67c5c",
   "metadata": {},
   "outputs": [],
   "source": [
    "len(spam_corpus)"
   ]
  },
  {
   "cell_type": "code",
   "execution_count": null,
   "id": "1979fc2c-dcb2-449f-a8a1-ddc66504e298",
   "metadata": {},
   "outputs": [],
   "source": [
    "Counter(spam_corpus).most_common(30)"
   ]
  },
  {
   "cell_type": "markdown",
   "id": "b6df8f85-78ce-4b38-8cff-92616058cb57",
   "metadata": {},
   "source": [
    "#### Displaying the 30 Most Common Words in Spam Texts"
   ]
  },
  {
   "cell_type": "code",
   "execution_count": null,
   "id": "f1227d7f-4c66-4dc3-94c4-db78696da9a9",
   "metadata": {},
   "outputs": [],
   "source": [
    "# convert spam_corpus to Dataframe\n",
    "pd.DataFrame(Counter(spam_corpus).most_common(30))"
   ]
  },
  {
   "cell_type": "markdown",
   "id": "0e900b8a-40ac-4405-b2fb-fa0bf3788859",
   "metadata": {},
   "source": [
    "#### Bar Graph for the Most Popular Words in Spam Corpus"
   ]
  },
  {
   "cell_type": "code",
   "execution_count": null,
   "id": "f878e068-9dc9-434c-bf36-010f5a0c731f",
   "metadata": {},
   "outputs": [],
   "source": [
    "plt.style.use('dark_background')\n",
    "plt.figure(figsize=(10, 6), dpi=150)\n",
    "sns.barplot(\n",
    "    x=pd.DataFrame(Counter(spam_corpus).most_common(30))[0],\n",
    "    y=pd.DataFrame(Counter(spam_corpus).most_common(30))[1],\n",
    "    palette=\"coolwarm\", linewidth=1.5, edgecolor='black' \n",
    ")\n",
    "plt.xlabel(\"Words\", fontsize=14, color='cyan', fontweight='bold')\n",
    "plt.ylabel(\"Popularity\", fontsize=14, color='cyan', fontweight='bold')\n",
    "plt.title(\"Most Popular Words in Spam Corpus\", fontsize=16, color='cyan', fontweight='bold')\n",
    "plt.xticks(rotation=90, color='lightgreen', fontsize=12, fontweight='light')\n",
    "plt.grid(True, color='gray', linestyle='--', linewidth=0.5, alpha=0.5)\n",
    "plt.gca().patch.set_facecolor('#121212')\n",
    "\n",
    "plt.savefig(\"spam_most_common_words.png\", dpi=300, bbox_inches='tight')\n",
    "plt.show()"
   ]
  },
  {
   "cell_type": "markdown",
   "id": "e632dee7-5780-4599-8353-b40b6a6456f5",
   "metadata": {},
   "source": [
    "#### Creating a Corpus of Words from Ham Texts"
   ]
  },
  {
   "cell_type": "code",
   "execution_count": null,
   "id": "83a0cd41-267b-46ac-a286-6296f7f35d60",
   "metadata": {},
   "outputs": [],
   "source": [
    "ham_corpus = []\n",
    "for msg in df[df[\"target\"]==0][\"transformed_text\"].tolist():\n",
    "    for words in msg.split():\n",
    "        ham_corpus.append(words)"
   ]
  },
  {
   "cell_type": "code",
   "execution_count": null,
   "id": "360a2f32-24e3-4827-8f44-510ef0a49955",
   "metadata": {},
   "outputs": [],
   "source": [
    "len(ham_corpus)"
   ]
  },
  {
   "cell_type": "markdown",
   "id": "81d70ea8-08e1-4cb9-8fa9-fd285d631b98",
   "metadata": {},
   "source": [
    "#### Displaying the 30 Most Common Words in Ham Texts"
   ]
  },
  {
   "cell_type": "code",
   "execution_count": null,
   "id": "e0fec79e-ed5b-4487-a89d-b0a845169852",
   "metadata": {},
   "outputs": [],
   "source": [
    "pd.DataFrame(Counter(ham_corpus).most_common(30))"
   ]
  },
  {
   "cell_type": "markdown",
   "id": "c0ce522a-8d60-404b-a2cf-bfaff5399dcc",
   "metadata": {},
   "source": [
    "#### Bar Graph for the Most Popular Words in Ham Corpus"
   ]
  },
  {
   "cell_type": "code",
   "execution_count": null,
   "id": "bbbb3eab-54bf-4cd3-9b8c-f0dab1795b5e",
   "metadata": {},
   "outputs": [],
   "source": [
    "plt.style.use('dark_background')\n",
    "plt.figure(figsize=(10, 6), dpi=150)\n",
    "sns.barplot(\n",
    "    x=pd.DataFrame(Counter(ham_corpus).most_common(30))[0],\n",
    "    y=pd.DataFrame(Counter(ham_corpus).most_common(30))[1],\n",
    "    palette=\"coolwarm\", linewidth=1.5, edgecolor='black'\n",
    ")\n",
    "plt.xlabel(\"Words\", fontsize=14, color='cyan', fontweight='bold')\n",
    "plt.ylabel(\"Popularity\", fontsize=14, color='cyan', fontweight='bold')\n",
    "plt.title(\"Most Popular Words in Ham Corpus\", fontsize=16, color='cyan', fontweight='bold')\n",
    "plt.xticks(rotation=90, color='lightgreen', fontsize=12, fontweight='light')\n",
    "plt.grid(True, color='gray', linestyle='--', linewidth=0.5, alpha=0.5)\n",
    "plt.gca().patch.set_facecolor('#121212')\n",
    "plt.savefig(\"ham_most_common_words.png\", dpi=300, bbox_inches='tight')\n",
    "plt.show()"
   ]
  },
  {
   "cell_type": "markdown",
   "id": "abbf69b9-2c03-470f-8575-56e1a4c3a8f9",
   "metadata": {},
   "source": [
    "---\n",
    "## Model Building \n",
    "---"
   ]
  },
  {
   "cell_type": "markdown",
   "id": "5710e911-9b3a-4d8c-ac36-b41cea137e9a",
   "metadata": {},
   "source": [
    "#### Initializing a CountVectorizer\n",
    "transform raw text data into numerical features"
   ]
  },
  {
   "cell_type": "code",
   "execution_count": null,
   "id": "031642b2-bdb4-4c8a-a84c-ebab876afe50",
   "metadata": {},
   "outputs": [],
   "source": [
    "cv = CountVectorizer()"
   ]
  },
  {
   "cell_type": "markdown",
   "id": "ea6c04b1-9513-4709-90dc-c0c92f386740",
   "metadata": {},
   "source": [
    "#### Transforming Text Data into Numerical Features\n",
    "transforms the text data into a matrix of word counts and shows the dimensions of the resulting feature matrix"
   ]
  },
  {
   "cell_type": "code",
   "execution_count": null,
   "id": "c490d28b-a648-496d-b78b-1af9a776f405",
   "metadata": {},
   "outputs": [],
   "source": [
    "X = cv.fit_transform(df[\"transformed_text\"]).toarray()\n",
    "X.shape"
   ]
  },
  {
   "cell_type": "code",
   "execution_count": null,
   "id": "97f6a55c-d2d7-4ee4-bac6-ccc5a9c4bc08",
   "metadata": {},
   "outputs": [],
   "source": [
    "y = df[\"target\"].values\n",
    "y.shape"
   ]
  },
  {
   "cell_type": "markdown",
   "id": "e6a18efb-fdfd-4537-b261-ff6c3d1bca13",
   "metadata": {},
   "source": [
    "#### Splitting Data into Training and Test Sets"
   ]
  },
  {
   "cell_type": "code",
   "execution_count": null,
   "id": "a92df9f6-58da-45e2-801d-72ff551d588b",
   "metadata": {},
   "outputs": [],
   "source": [
    "# Train , Split the Data\n",
    "X_train,X_test,y_train,y_test = train_test_split(X,y,test_size=0.2,random_state=2)"
   ]
  },
  {
   "cell_type": "markdown",
   "id": "6ec258fa-869d-484f-a423-684e832b84f8",
   "metadata": {},
   "source": [
    "#### Training and Evaluating a Gaussian Naive Bayes Classifier"
   ]
  },
  {
   "cell_type": "code",
   "execution_count": null,
   "id": "f1238799-013c-4e22-8c2f-327253a8438c",
   "metadata": {},
   "outputs": [],
   "source": [
    "# GaussianNB\n",
    "gnb = GaussianNB()\n",
    "gnb.fit(X_train,y_train)\n",
    "y_pred_gnb = gnb.predict(X_test)\n",
    "print(accuracy_score(y_test,y_pred_gnb))\n",
    "print(confusion_matrix(y_test,y_pred_gnb))\n",
    "print(precision_score(y_test,y_pred_gnb))"
   ]
  },
  {
   "cell_type": "markdown",
   "id": "18573bb9-9af5-4890-827a-88fead581f2b",
   "metadata": {},
   "source": [
    "#### Training and Evaluating a Multinomial Naive Bayes Classifier"
   ]
  },
  {
   "cell_type": "code",
   "execution_count": null,
   "id": "4a2ca027-59d2-4f7e-a2a3-0069475b0132",
   "metadata": {},
   "outputs": [],
   "source": [
    "# MultinomialNB\n",
    "mnb = MultinomialNB()\n",
    "mnb.fit(X_train,y_train)\n",
    "y_pred_mnb = mnb.predict(X_test)\n",
    "print(accuracy_score(y_test,y_pred_mnb))\n",
    "print(confusion_matrix(y_test,y_pred_mnb))\n",
    "print(precision_score(y_test,y_pred_mnb))"
   ]
  },
  {
   "cell_type": "markdown",
   "id": "395145ab-8810-4b98-a312-a9c490838c40",
   "metadata": {},
   "source": [
    "#### Training and Evaluating a Bernoulli Naive Bayes Classifier"
   ]
  },
  {
   "cell_type": "code",
   "execution_count": null,
   "id": "2409ba62-1a1f-4d7d-ae1a-06af5a0a65d4",
   "metadata": {},
   "outputs": [],
   "source": [
    "# BernoulliNB\n",
    "bnb = BernoulliNB()\n",
    "bnb.fit(X_train,y_train)\n",
    "y_pred_bnb = mnb.predict(X_test)\n",
    "print(accuracy_score(y_test,y_pred_bnb))\n",
    "print(confusion_matrix(y_test,y_pred_bnb))\n",
    "print(precision_score(y_test,y_pred_bnb))"
   ]
  },
  {
   "cell_type": "markdown",
   "id": "f06f7539-baf7-43dd-a582-2b16a3cdf749",
   "metadata": {},
   "source": [
    "#### Initializing a Term Frequency-Inverse Document Frequency (TF-IDF) Vectorizer (TfidfVectorizer)"
   ]
  },
  {
   "cell_type": "code",
   "execution_count": null,
   "id": "4cec0a86-2188-4e8c-a8c8-63106049d2c6",
   "metadata": {},
   "outputs": [],
   "source": [
    "tfidf = TfidfVectorizer()"
   ]
  },
  {
   "cell_type": "markdown",
   "id": "16c69fd3-7214-4c9c-9cbf-c3103aa3a411",
   "metadata": {},
   "source": [
    "#### Transforming Text Data into TF-IDF Features"
   ]
  },
  {
   "cell_type": "code",
   "execution_count": null,
   "id": "62cfc8d0-7150-4ad1-a039-f8782e220747",
   "metadata": {},
   "outputs": [],
   "source": [
    "X = tfidf.fit_transform(df[\"transformed_text\"]).toarray()\n",
    "X.shape"
   ]
  },
  {
   "cell_type": "code",
   "execution_count": null,
   "id": "398d7ce8-f028-4903-a561-e7f97964094f",
   "metadata": {},
   "outputs": [],
   "source": [
    "y = df[\"target\"].values\n",
    "y.shape"
   ]
  },
  {
   "cell_type": "code",
   "execution_count": null,
   "id": "b3977e92-f84c-4a3a-b73c-06ebf3b0faf2",
   "metadata": {},
   "outputs": [],
   "source": [
    "# Train , Split the Data\n",
    "X_train,X_test,y_train,y_test = train_test_split(X,y,test_size=0.2,random_state=2)"
   ]
  },
  {
   "cell_type": "code",
   "execution_count": null,
   "id": "d150f9d1-de29-4385-9a83-db70c0db2eda",
   "metadata": {},
   "outputs": [],
   "source": [
    "# GaussianNB\n",
    "gnb = GaussianNB()\n",
    "gnb.fit(X_train,y_train)\n",
    "y_pred_gnb = gnb.predict(X_test)\n",
    "print(accuracy_score(y_test,y_pred_gnb))\n",
    "print(confusion_matrix(y_test,y_pred_gnb))\n",
    "print(precision_score(y_test,y_pred_gnb))"
   ]
  },
  {
   "cell_type": "code",
   "execution_count": null,
   "id": "d9adc134-1003-499b-a559-443355dc721a",
   "metadata": {},
   "outputs": [],
   "source": [
    "# MultinomialNB\n",
    "mnb = MultinomialNB()\n",
    "mnb.fit(X_train,y_train)\n",
    "y_pred_mnb = mnb.predict(X_test)\n",
    "print(accuracy_score(y_test,y_pred_mnb))\n",
    "print(confusion_matrix(y_test,y_pred_mnb))\n",
    "print(precision_score(y_test,y_pred_mnb))"
   ]
  },
  {
   "cell_type": "code",
   "execution_count": null,
   "id": "b7c31849-be86-41f4-a18a-2284158cb717",
   "metadata": {},
   "outputs": [],
   "source": [
    "# BernoulliNB\n",
    "bnb = BernoulliNB()\n",
    "bnb.fit(X_train,y_train)\n",
    "y_pred_bnb = bnb.predict(X_test)\n",
    "print(accuracy_score(y_test,y_pred_bnb))\n",
    "print(confusion_matrix(y_test,y_pred_bnb))\n",
    "print(precision_score(y_test,y_pred_bnb))"
   ]
  },
  {
   "cell_type": "markdown",
   "id": "74a47b6c-50ca-49e2-8d52-1adde9c2c07e",
   "metadata": {},
   "source": [
    "#### Initializing Various Machine Learning Classifiers"
   ]
  },
  {
   "cell_type": "code",
   "execution_count": null,
   "id": "dfd333af-9b02-4aa6-9d24-7ae1864723f3",
   "metadata": {},
   "outputs": [],
   "source": [
    "svc = SVC(kernel=\"sigmoid\",gamma=1.0)\n",
    "knc = KNeighborsClassifier()\n",
    "mnb = MultinomialNB()\n",
    "dtc = DecisionTreeClassifier(max_depth=5)\n",
    "lrc = LogisticRegression(solver=\"liblinear\",penalty=\"l1\")\n",
    "rfc = RandomForestClassifier(n_estimators=50,random_state=2)\n",
    "abc = AdaBoostClassifier(n_estimators=50,random_state=2,algorithm=\"SAMME\")\n",
    "bc = BaggingClassifier(n_estimators=50,random_state=2)\n",
    "etc = ExtraTreesClassifier(n_estimators=50,random_state=2)\n",
    "gbdt = GradientBoostingClassifier(n_estimators=50,random_state=2)\n",
    "xgb = XGBClassifier(n_estimators=50,random_state=2)"
   ]
  },
  {
   "cell_type": "markdown",
   "id": "f9a7c122-bc51-45af-bd19-35d5c0195c48",
   "metadata": {},
   "source": [
    "#### Storing Classifiers in a Dictionary"
   ]
  },
  {
   "cell_type": "code",
   "execution_count": null,
   "id": "b1375079-397e-45ea-9370-689d2e3e4c82",
   "metadata": {},
   "outputs": [],
   "source": [
    "clfs = {\n",
    "    \"SVC\":svc,\n",
    "    \"KN\" :knc,\n",
    "    \"NB\" :mnb,\n",
    "    \"DT\" :dtc,\n",
    "    \"LR\" :lrc,\n",
    "    \"RF\" :rfc,\n",
    "    \"AdaBoost\":abc,\n",
    "    \"BgC\":bc,\n",
    "    \"ETC\":etc,\n",
    "    \"GBDT\":gbdt,\n",
    "    \"xgb\":xgb\n",
    "}"
   ]
  },
  {
   "cell_type": "markdown",
   "id": "4dea56a3-3b41-4383-899e-26ecec40b55d",
   "metadata": {},
   "source": [
    "#### Training a Classifier"
   ]
  },
  {
   "cell_type": "markdown",
   "id": "076ca0c7-9785-4392-a071-8f05b55f9217",
   "metadata": {},
   "source": [
    "#### Explanation of the `train_classifier` Function\n",
    "The `train_classifier` function performs the following steps:\r\n",
    "\r\n",
    "Trains a classifier on the training data.\r\n",
    "\r\n",
    "Predicts labels for the test data.\r\n",
    "\r\n",
    "Evaluates the classifier's performance using accuracy and precision.\r\n",
    "\r\n",
    "Returns the calculated metrics."
   ]
  },
  {
   "cell_type": "code",
   "execution_count": null,
   "id": "ee451bb5-3287-4f7b-88d9-c8de0fc28624",
   "metadata": {},
   "outputs": [],
   "source": [
    "def train_classifier(clf,X_train,y_train,X_test,y_test):\n",
    "    clf.fit(X_train,y_train)\n",
    "    y_pred = clf.predict(X_test)\n",
    "    accuracy = accuracy_score(y_test,y_pred)\n",
    "    precision = precision_score(y_test, y_pred, average='weighted', zero_division=1)\n",
    "    return accuracy,precision"
   ]
  },
  {
   "cell_type": "code",
   "execution_count": null,
   "id": "d52a9abc-a4bc-420d-824e-b7b839392e66",
   "metadata": {},
   "outputs": [],
   "source": [
    "# train classfier\n",
    "train_classifier(svc,X_train,y_train,X_test,y_test)"
   ]
  },
  {
   "cell_type": "markdown",
   "id": "741149fa-82c8-46b0-93c5-2ee1f8546e37",
   "metadata": {},
   "source": [
    "#### Evaluating Multiple Classifiers\n",
    "This loop evaluates the performance of multiple classifiers stored in the `clfs` dictionary, prints their accuracy and precision scores, and stores them in lists for later comparison."
   ]
  },
  {
   "cell_type": "code",
   "execution_count": null,
   "id": "2eb580f6-05b5-4c90-bdb1-aaa43dc80482",
   "metadata": {},
   "outputs": [],
   "source": [
    "accuracy_scores = []\n",
    "precision_scores = []\n",
    "for name,clf in clfs.items():\n",
    "    current_accuracy,current_precision = train_classifier(clf,X_train,y_train,X_test,y_test)\n",
    "    print(\"For: \",name)\n",
    "    print(\"accuracy: \",current_accuracy)\n",
    "    print(\"precision: \",current_precision)\n",
    "\n",
    "    accuracy_scores.append(current_accuracy)\n",
    "    precision_scores.append(current_precision)"
   ]
  },
  {
   "cell_type": "markdown",
   "id": "26258f17-9da0-4641-89f8-f5b18cb49e10",
   "metadata": {},
   "source": [
    "#### Creating a DataFrame for Classifier Performance"
   ]
  },
  {
   "cell_type": "code",
   "execution_count": null,
   "id": "a33a0e2d-af81-475e-914a-40f7d50f7a16",
   "metadata": {},
   "outputs": [],
   "source": [
    "# create a dataframe for algorithms performace\n",
    "performance_df = pd.DataFrame({\"Algorithm\":clfs.keys(),\"Accuracy\":accuracy_scores,\"Precision\":precision_scores})"
   ]
  },
  {
   "cell_type": "code",
   "execution_count": null,
   "id": "42081b65-39b0-4718-90ce-e6fa649ad2e0",
   "metadata": {},
   "outputs": [],
   "source": [
    "performance_df"
   ]
  },
  {
   "cell_type": "code",
   "execution_count": null,
   "id": "f35dd44d-b707-499b-b545-89cea97dff74",
   "metadata": {},
   "outputs": [],
   "source": [
    "performance_df1 = pd.melt(performance_df,id_vars=\"Algorithm\")"
   ]
  },
  {
   "cell_type": "code",
   "execution_count": null,
   "id": "eccb710a-306b-4832-8633-b3f1d6b5b081",
   "metadata": {},
   "outputs": [],
   "source": [
    "performance_df1"
   ]
  },
  {
   "cell_type": "markdown",
   "id": "c9eda11c-9fcd-4f99-9f52-388943e85777",
   "metadata": {},
   "source": [
    "#### Visualizing Classifier Performance (Accuracy and Precision)"
   ]
  },
  {
   "cell_type": "code",
   "execution_count": null,
   "id": "2dbd3172-fda1-4702-a36a-d7505ab97eff",
   "metadata": {},
   "outputs": [],
   "source": [
    "plt.style.use('dark_background')\n",
    "plt.figure(figsize=(12, 6), dpi=150)\n",
    "sns.barplot(data=performance_df1, x=\"Algorithm\", y=\"value\", hue=\"variable\", palette=\"coolwarm\")\n",
    "plt.xlabel(\"Algorithm\", fontsize=14, color='cyan', fontweight='bold')\n",
    "plt.ylabel(\"Score\", fontsize=14, color='cyan', fontweight='bold')\n",
    "plt.title(\"Algorithm Performance (Accuracy & Precision)\", fontsize=16, color='cyan', fontweight='bold')\n",
    "plt.legend(loc=(1.1, 0.5), fontsize=12, title='Metrics', title_fontsize=14, labelspacing=1.2, borderpad=1)\n",
    "plt.ylim(0.5, 1.0)\n",
    "plt.tight_layout()\n",
    "plt.xticks(rotation=90, color='lightgreen', fontsize=12, fontweight='light')\n",
    "plt.savefig(\"algorithm_performance.png\", dpi=300, bbox_inches='tight')\n",
    "plt.show()"
   ]
  },
  {
   "cell_type": "markdown",
   "id": "0e34d887-0b92-4ca8-977c-8397693582d8",
   "metadata": {},
   "source": [
    "---\n",
    "## Model Improve\n",
    "---"
   ]
  },
  {
   "cell_type": "markdown",
   "id": "f9933470-8f00-4d8e-8d0e-8118e5222a44",
   "metadata": {},
   "source": [
    "#### Changing `max_features` in TF-IDF Vectorizer"
   ]
  },
  {
   "cell_type": "code",
   "execution_count": null,
   "id": "58247f0a-5025-4eb4-815a-4d85a2afb0c9",
   "metadata": {},
   "outputs": [],
   "source": [
    "# Change max_features parameter of TfIdf\n",
    "tfidf = TfidfVectorizer(max_features=3000)"
   ]
  },
  {
   "cell_type": "markdown",
   "id": "e68cd096-ad83-45b8-9482-d1e1066381dc",
   "metadata": {},
   "source": [
    "#### Creating a DataFrame for Classifier Performance with `max_features=3000`"
   ]
  },
  {
   "cell_type": "code",
   "execution_count": null,
   "id": "a54bc703-24ae-4143-8708-5c64ebe7eea5",
   "metadata": {},
   "outputs": [],
   "source": [
    "temp_df = pd.DataFrame({\"Algorithm\": clfs.keys(), \"Accuracy_max_ft_3000\": accuracy_scores, \"Precision_max_ft_3000\": precision_scores})"
   ]
  },
  {
   "cell_type": "code",
   "execution_count": null,
   "id": "c5dc2ea4-2e53-4b76-8bd0-245f864343d9",
   "metadata": {},
   "outputs": [],
   "source": [
    "temp_df"
   ]
  },
  {
   "cell_type": "markdown",
   "id": "c030386f-bd57-42e8-b2b0-23878fc94ca1",
   "metadata": {},
   "source": [
    "#### Merging DataFrames to Combine Results"
   ]
  },
  {
   "cell_type": "code",
   "execution_count": null,
   "id": "5a14b9fc-8c5d-4641-99f3-14af7998ceee",
   "metadata": {},
   "outputs": [],
   "source": [
    "# merge Dataframes\n",
    "new_df_max_ft = performance_df.merge(temp_df,on=\"Algorithm\")\n",
    "new_df_max_ft"
   ]
  },
  {
   "cell_type": "markdown",
   "id": "bf3e90f9-cca1-4b02-98a4-5b4f49c21194",
   "metadata": {},
   "source": [
    "#### Applying TF-IDF Vectorization to the Text Data"
   ]
  },
  {
   "cell_type": "code",
   "execution_count": null,
   "id": "6e9eb772-7ff8-42bb-b1c3-840771eb5b91",
   "metadata": {},
   "outputs": [],
   "source": [
    "X = tfidf.fit_transform(df[\"transformed_text\"]).toarray()"
   ]
  },
  {
   "cell_type": "markdown",
   "id": "a5e2cdef-d07f-4d2c-b108-6b6408c52a63",
   "metadata": {},
   "source": [
    "#### Initializing Min-Max Scaler"
   ]
  },
  {
   "cell_type": "code",
   "execution_count": null,
   "id": "b1741e1c-63bb-4f91-b9b6-4bd3154aa02c",
   "metadata": {},
   "outputs": [],
   "source": [
    "scaler = MinMaxScaler()"
   ]
  },
  {
   "cell_type": "markdown",
   "id": "d2260ff3-c920-4615-9a94-69591ceba11f",
   "metadata": {},
   "source": [
    "#### Scaling Features and Extracting Target Labels"
   ]
  },
  {
   "cell_type": "code",
   "execution_count": null,
   "id": "709d7a17-75b9-4bad-b336-a598212bf46a",
   "metadata": {},
   "outputs": [],
   "source": [
    "X = scaler.fit_transform(X)\n",
    "y = df[\"target\"].values"
   ]
  },
  {
   "cell_type": "code",
   "execution_count": null,
   "id": "d0d12705-59c4-4386-b190-09ae56789ead",
   "metadata": {},
   "outputs": [],
   "source": [
    "X_train,X_test,y_train,y_test = train_test_split(X,y,test_size=0.2,random_state=2)"
   ]
  },
  {
   "cell_type": "code",
   "execution_count": null,
   "id": "973df6ba-b761-4c44-bc4c-98628fc1fd44",
   "metadata": {},
   "outputs": [],
   "source": [
    "# GaussianNB\n",
    "gnb = GaussianNB()\n",
    "gnb.fit(X_train,y_train)\n",
    "y_pred_gnb = gnb.predict(X_test)\n",
    "print(accuracy_score(y_test,y_pred_gnb))\n",
    "print(confusion_matrix(y_test,y_pred_gnb))\n",
    "print(precision_score(y_test,y_pred_gnb))"
   ]
  },
  {
   "cell_type": "code",
   "execution_count": null,
   "id": "28a2ca30-ce59-4e2c-b551-7778a58f3b58",
   "metadata": {},
   "outputs": [],
   "source": [
    "# MultinomialNB\n",
    "mnb = MultinomialNB()\n",
    "mnb.fit(X_train,y_train)\n",
    "y_pred_mnb = mnb.predict(X_test)\n",
    "print(accuracy_score(y_test,y_pred_mnb))\n",
    "print(confusion_matrix(y_test,y_pred_mnb))\n",
    "print(precision_score(y_test,y_pred_mnb))"
   ]
  },
  {
   "cell_type": "code",
   "execution_count": null,
   "id": "70f8f99d-57f5-4968-9ba3-13622e378d75",
   "metadata": {},
   "outputs": [],
   "source": [
    "# BernoulliNB\n",
    "bnb = BernoulliNB()\n",
    "bnb.fit(X_train,y_train)\n",
    "y_pred_bnb = bnb.predict(X_test)\n",
    "print(accuracy_score(y_test,y_pred_bnb))\n",
    "print(confusion_matrix(y_test,y_pred_bnb))\n",
    "print(precision_score(y_test,y_pred_bnb))"
   ]
  },
  {
   "cell_type": "code",
   "execution_count": null,
   "id": "04bd73f5-3d22-46bf-8e5b-0fbc6b4e37bc",
   "metadata": {},
   "outputs": [],
   "source": [
    "accuracy_scores = []\n",
    "precision_scores = []\n",
    "for name,clf in clfs.items():\n",
    "    current_accuracy,current_precision = train_classifier(clf,X_train,y_train,X_test,y_test)\n",
    "    print(\"For: \",name)\n",
    "    print(\"accuracy: \",current_accuracy)\n",
    "    print(\"precision: \",current_precision)\n",
    "\n",
    "    accuracy_scores.append(current_accuracy)\n",
    "    precision_scores.append(current_precision)"
   ]
  },
  {
   "cell_type": "markdown",
   "id": "52915b1e-4ed7-4a68-bc1a-541bc89a8aa4",
   "metadata": {},
   "source": [
    "#### Creating a DataFrame for Scaled Classifier Performance"
   ]
  },
  {
   "cell_type": "code",
   "execution_count": null,
   "id": "844c3959-be02-4c67-82ab-4e5eec8e6319",
   "metadata": {},
   "outputs": [],
   "source": [
    "temp_df_scaled = pd.DataFrame({\"Algorithm\":clfs.keys(),\"Accuracy_scaled\":accuracy_scores,\"Precision_scaled\":precision_scores})"
   ]
  },
  {
   "cell_type": "code",
   "execution_count": null,
   "id": "20dee1f1-9cdd-4a3a-84a4-481c61eadf0a",
   "metadata": {},
   "outputs": [],
   "source": [
    "temp_df_scaled"
   ]
  },
  {
   "cell_type": "markdown",
   "id": "16d3cb23-d9f5-4aad-bdfc-b46de9c7b78f",
   "metadata": {},
   "source": [
    "#### Merging DataFrames to Combine Results with Scaled Features"
   ]
  },
  {
   "cell_type": "code",
   "execution_count": null,
   "id": "8d03f452-5bf2-4c7e-8ac6-c2c1e2d8f99f",
   "metadata": {},
   "outputs": [],
   "source": [
    "# Merge Dataframes\n",
    "new_df_scaled = new_df_max_ft.merge(temp_df_scaled,on=\"Algorithm\")"
   ]
  },
  {
   "cell_type": "code",
   "execution_count": null,
   "id": "841756d7-701c-4b68-bc67-0b3045bf75cf",
   "metadata": {},
   "outputs": [],
   "source": [
    "new_df_scaled"
   ]
  },
  {
   "cell_type": "markdown",
   "id": "4de632d7-62fc-4ecd-a4ee-62078ace7a6e",
   "metadata": {},
   "source": [
    "#### Adding the Number of Characters as an Additional Feature"
   ]
  },
  {
   "cell_type": "code",
   "execution_count": null,
   "id": "4de0236d-f232-4cfd-881e-0d11fec3b184",
   "metadata": {},
   "outputs": [],
   "source": [
    "X = np.hstack((X,df[\"characters_num\"].values.reshape(-1,1)))\n",
    "X.shape"
   ]
  },
  {
   "cell_type": "code",
   "execution_count": null,
   "id": "82d665ad-ef63-4992-a1c6-8ddf4a3767a3",
   "metadata": {},
   "outputs": [],
   "source": [
    "y = df[\"target\"].values\n",
    "y.shape"
   ]
  },
  {
   "cell_type": "code",
   "execution_count": null,
   "id": "7b5be4e6-d1c1-48fb-a11a-ac81969495de",
   "metadata": {},
   "outputs": [],
   "source": [
    "X_train,X_test,y_train,y_test = train_test_split(X,y,test_size=0.2,random_state=2)"
   ]
  },
  {
   "cell_type": "code",
   "execution_count": null,
   "id": "bc4a1cc0-562a-4e92-98cf-1b33d84524c3",
   "metadata": {},
   "outputs": [],
   "source": [
    "# GaussianNB\n",
    "gnb = GaussianNB()\n",
    "gnb.fit(X_train,y_train)\n",
    "y_pred_gnb = gnb.predict(X_test)\n",
    "print(accuracy_score(y_test,y_pred_gnb))\n",
    "print(confusion_matrix(y_test,y_pred_gnb))\n",
    "print(precision_score(y_test,y_pred_gnb))"
   ]
  },
  {
   "cell_type": "code",
   "execution_count": null,
   "id": "e884bf14-bb37-42b6-bc47-4c8c70714a24",
   "metadata": {},
   "outputs": [],
   "source": [
    "# MultinomialNB\n",
    "mnb = MultinomialNB()\n",
    "mnb.fit(X_train,y_train)\n",
    "y_pred_mnb = mnb.predict(X_test)\n",
    "print(accuracy_score(y_test,y_pred_mnb))\n",
    "print(confusion_matrix(y_test,y_pred_mnb))\n",
    "print(precision_score(y_test,y_pred_mnb))"
   ]
  },
  {
   "cell_type": "code",
   "execution_count": null,
   "id": "b609f993-d6b0-46ce-9304-d97cba8ab04d",
   "metadata": {},
   "outputs": [],
   "source": [
    "# BernoulliNB\n",
    "bnb = BernoulliNB()\n",
    "bnb.fit(X_train,y_train)\n",
    "y_pred_bnb = bnb.predict(X_test)\n",
    "print(accuracy_score(y_test,y_pred_bnb))\n",
    "print(confusion_matrix(y_test,y_pred_bnb))\n",
    "print(precision_score(y_test,y_pred_bnb))"
   ]
  },
  {
   "cell_type": "code",
   "execution_count": null,
   "id": "77d34fe4-6cc6-4b27-b16a-79e08cda750a",
   "metadata": {},
   "outputs": [],
   "source": [
    "accuracy_scores = []\n",
    "precision_scores = []\n",
    "for name,clf in clfs.items():\n",
    "    current_accuracy,current_precision = train_classifier(clf,X_train,y_train,X_test,y_test)\n",
    "    print(\"For: \",name)\n",
    "    print(\"accuracy: \",current_accuracy)\n",
    "    print(\"precision: \",current_precision)\n",
    "\n",
    "    accuracy_scores.append(current_accuracy)\n",
    "    precision_scores.append(current_precision)"
   ]
  },
  {
   "cell_type": "markdown",
   "id": "bb9aa7c8-1088-4f1a-bb97-a7bc0cda7f56",
   "metadata": {},
   "source": [
    "#### Creating a DataFrame for Classifier Performance with Number of Characters Feature"
   ]
  },
  {
   "cell_type": "code",
   "execution_count": null,
   "id": "7e9a430f-15b5-493a-a6b4-5211ed57806b",
   "metadata": {},
   "outputs": [],
   "source": [
    "df_num_chars = pd.DataFrame({\"Algorithm\":clfs.keys(),\"Accuracy_num_chars\":accuracy_scores,\"Precision_num_chars\":precision_scores})"
   ]
  },
  {
   "cell_type": "code",
   "execution_count": null,
   "id": "0ad8b488-9ce2-497e-a0be-6c29a1924f36",
   "metadata": {},
   "outputs": [],
   "source": [
    "df_num_chars"
   ]
  },
  {
   "cell_type": "markdown",
   "id": "bd63ef96-2bc7-4619-bf85-9c9a003c2263",
   "metadata": {},
   "source": [
    "#### Merging DataFrames to Combine Results with Number of Characters Feature"
   ]
  },
  {
   "cell_type": "code",
   "execution_count": null,
   "id": "6c9182bc-ef85-499d-9889-d7d0be327177",
   "metadata": {},
   "outputs": [],
   "source": [
    "# Merge Dataframes\n",
    "new_df_scaled_chars = new_df_scaled.merge(df_num_chars,on=\"Algorithm\")"
   ]
  },
  {
   "cell_type": "code",
   "execution_count": null,
   "id": "5458eb5a-6aaa-4a6b-8fb2-efb02492bf97",
   "metadata": {},
   "outputs": [],
   "source": [
    "new_df_scaled_chars"
   ]
  },
  {
   "cell_type": "markdown",
   "id": "af5edfec-22c6-456d-b08d-1cb2b7dfcc13",
   "metadata": {},
   "source": [
    "#### Initializing Classifiers for Voting Classifier\n",
    "These three classifiers will be used in a **Voting Classifier** to combine their predictions for improved accuracy."
   ]
  },
  {
   "cell_type": "code",
   "execution_count": null,
   "id": "0ddd2a37-f1c4-4f05-8074-c1ba63ffb369",
   "metadata": {},
   "outputs": [],
   "source": [
    "# Voting Classifier\n",
    "svc = SVC(kernel=\"sigmoid\",gamma=1.0,probability=True)\n",
    "mnb = MultinomialNB()\n",
    "etc = ExtraTreesClassifier(n_estimators=50,random_state=2)"
   ]
  },
  {
   "cell_type": "markdown",
   "id": "00447079-8efa-447b-a8bd-dc3e4b242786",
   "metadata": {},
   "source": [
    "#### Initializing Voting Classifier"
   ]
  },
  {
   "cell_type": "code",
   "execution_count": null,
   "id": "e9915df1-ff97-4155-ac0a-f9d9fc64bee1",
   "metadata": {},
   "outputs": [],
   "source": [
    "voting = VotingClassifier(estimators=[(\"svm\",svc),(\"nb\",mnb),(\"et\",etc)],voting=\"soft\")"
   ]
  },
  {
   "cell_type": "code",
   "execution_count": null,
   "id": "e38324f1-ed9c-4b44-b942-fbd6f434e69f",
   "metadata": {},
   "outputs": [],
   "source": [
    "voting.fit(X_train,y_train)"
   ]
  },
  {
   "cell_type": "markdown",
   "id": "af11d7f0-fdce-475f-8fe7-cc42d5567f5f",
   "metadata": {},
   "source": [
    "#### Making Predictions with the Voting Classifier"
   ]
  },
  {
   "cell_type": "code",
   "execution_count": null,
   "id": "fcd7fdba-a276-4fb5-aeae-9b65c2bfac2f",
   "metadata": {},
   "outputs": [],
   "source": [
    "y_pred = voting.predict(X_test)"
   ]
  },
  {
   "cell_type": "code",
   "execution_count": null,
   "id": "3b6febb5-409d-4e05-be7d-ab9ddc91c04f",
   "metadata": {},
   "outputs": [],
   "source": [
    "print(\"accuracy: \",accuracy_score(y_test,y_pred))\n",
    "print(\"precision: \",precision_score(y_test,y_pred))"
   ]
  },
  {
   "cell_type": "markdown",
   "id": "fc0ef1e8-0dcd-42fa-a7f5-4c05be11f531",
   "metadata": {},
   "source": [
    "#### Initializing Estimators for Stacking"
   ]
  },
  {
   "cell_type": "code",
   "execution_count": null,
   "id": "85328efc-ce05-4dd0-8dd2-204debf1fe26",
   "metadata": {},
   "outputs": [],
   "source": [
    "# Applaying stacking\n",
    "estimators = [(\"svm\",svc),(\"nb\",mnb),(\"et\",etc)]"
   ]
  },
  {
   "cell_type": "markdown",
   "id": "cb76b5fb-fd2d-4b6c-9a33-f846ce9c872f",
   "metadata": {},
   "source": [
    "#### Initializing the Final Estimator for Stacking"
   ]
  },
  {
   "cell_type": "code",
   "execution_count": null,
   "id": "4e7dd822-fdea-479b-a2f8-c8c0ec0227a6",
   "metadata": {},
   "outputs": [],
   "source": [
    "final_estimator = RandomForestClassifier()"
   ]
  },
  {
   "cell_type": "markdown",
   "id": "cfedea05-82c5-4f7f-93e4-e9e1bedbfa6b",
   "metadata": {},
   "source": [
    "#### Applying Stacking Classifier"
   ]
  },
  {
   "cell_type": "code",
   "execution_count": null,
   "id": "226e2911-0de1-4ee7-a51f-24b972ebe266",
   "metadata": {},
   "outputs": [],
   "source": [
    "clf = StackingClassifier(estimators=estimators,final_estimator=final_estimator)\n",
    "clf.fit(X_train,y_train)\n",
    "y_pred = clf.predict(X_test)"
   ]
  },
  {
   "cell_type": "code",
   "execution_count": null,
   "id": "3e359805-437e-40b3-9b15-0384153d9142",
   "metadata": {},
   "outputs": [],
   "source": [
    "print(\"accuracy: \",accuracy_score(y_test,y_pred))\n",
    "print(\"precision: \",precision_score(y_test,y_pred))"
   ]
  },
  {
   "cell_type": "markdown",
   "id": "0967bbd2-9c9d-41a7-8443-a92587f0f62c",
   "metadata": {},
   "source": [
    "#### Saving the Model and Vectorizer using Pickle"
   ]
  },
  {
   "cell_type": "code",
   "execution_count": null,
   "id": "52d04cc0-34f0-45da-9a64-fe15d6a8bbc6",
   "metadata": {},
   "outputs": [],
   "source": [
    "pickle.dump(tfidf,open(\"vectorizer.pkl\",\"wb\"))\n",
    "pickle.dump(mnb,open(\"model.pkl\",\"wb\"))"
   ]
  },
  {
   "cell_type": "code",
   "execution_count": null,
   "id": "8db5741f-472d-45d5-9635-5a5a2cf515a0",
   "metadata": {},
   "outputs": [],
   "source": []
  }
 ],
 "metadata": {
  "kernelspec": {
   "display_name": "Python 3 (ipykernel)",
   "language": "python",
   "name": "python3"
  },
  "language_info": {
   "codemirror_mode": {
    "name": "ipython",
    "version": 3
   },
   "file_extension": ".py",
   "mimetype": "text/x-python",
   "name": "python",
   "nbconvert_exporter": "python",
   "pygments_lexer": "ipython3",
   "version": "3.12.3"
  }
 },
 "nbformat": 4,
 "nbformat_minor": 5
}
